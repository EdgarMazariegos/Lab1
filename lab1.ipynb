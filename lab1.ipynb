{
 "cells": [
  {
   "cell_type": "code",
   "execution_count": 2,
   "metadata": {},
   "outputs": [],
   "source": [
    "import cv2\n",
    "import numpy as np"
   ]
  },
  {
   "cell_type": "markdown",
   "metadata": {},
   "source": [
    "### Ejercicio 1"
   ]
  },
  {
   "cell_type": "code",
   "execution_count": 3,
   "metadata": {},
   "outputs": [],
   "source": [
    "def filtroImagen(foto, entero):\n",
    "\n",
    "    if entero == 1:\n",
    "        filtro = foto.copy()\n",
    "        filtro[:, :, 1] = 0  \n",
    "        filtro[:, :, 2] = 0 \n",
    "\n",
    "    elif entero == 2:\n",
    "        filtro = foto.copy()\n",
    "        filtro[:, :, 0] = 0\n",
    "        filtro[:, :, 2] = 0 \n",
    "\n",
    "    elif entero == 3:\n",
    "        filtro = foto.copy()\n",
    "        filtro[:, :, 0] = 0  \n",
    "        filtro[:, :, 1] = 0  \n",
    "\n",
    "    elif entero == 10:\n",
    "        filtro = foto.copy()\n",
    "        filtro[:, :, 0] = 0 \n",
    "\n",
    "    elif entero == 20:\n",
    "        filtro = foto.copy()\n",
    "        filtro[:, :, 2] = 0  \n",
    "\n",
    "    elif entero == 30:\n",
    "        filtro = foto.copy()\n",
    "        filtro[:, :, 1] = 0  \n",
    "    return filtro\n",
    "\n"
   ]
  },
  {
   "cell_type": "code",
   "execution_count": 5,
   "metadata": {},
   "outputs": [
    {
     "data": {
      "text/plain": [
       "True"
      ]
     },
     "execution_count": 5,
     "metadata": {},
     "output_type": "execute_result"
    }
   ],
   "source": [
    "\n",
    "\n",
    "imagen = cv2.imread('carro.jpg')\n",
    "\n",
    "\n",
    "color_filtrado = filtroImagen(imagen, 10)\n",
    "\n",
    "cv2.imwrite(\"transformada.jpg\", color_filtrado)\n",
    "\n"
   ]
  },
  {
   "cell_type": "markdown",
   "metadata": {},
   "source": [
    "### Ejercicio 2"
   ]
  },
  {
   "cell_type": "code",
   "execution_count": 8,
   "metadata": {},
   "outputs": [
    {
     "data": {
      "text/plain": [
       "True"
      ]
     },
     "execution_count": 8,
     "metadata": {},
     "output_type": "execute_result"
    }
   ],
   "source": [
    "def combinar(gris_rojo, gris_verde, gris_azul):\n",
    "    img = np.stack((gris_azul, gris_verde, gris_rojo), axis=-1)\n",
    "    return img\n",
    "\n",
    "azul = cv2.imread('imagen1_salida_gray_azul.jpg', cv2.IMREAD_GRAYSCALE)\n",
    "rojo = cv2.imread('imagen1_salida_gray_rojo.jpg', cv2.IMREAD_GRAYSCALE)\n",
    "verde = cv2.imread('imagen1_salida_gray_verde.jpg', cv2.IMREAD_GRAYSCALE)\n",
    "\n",
    "imagen_color = combinar(rojo, verde, azul)\n",
    "\n",
    "cv2.imwrite('imagen_a_color.jpg', imagen_color)"
   ]
  },
  {
   "cell_type": "markdown",
   "metadata": {},
   "source": [
    "### Ejercicio 3"
   ]
  },
  {
   "cell_type": "code",
   "execution_count": 11,
   "metadata": {},
   "outputs": [
    {
     "data": {
      "text/plain": [
       "True"
      ]
     },
     "execution_count": 11,
     "metadata": {},
     "output_type": "execute_result"
    }
   ],
   "source": [
    "def grises(foto):\n",
    "    foto_azul, foto_verde, foto_roja = cv2.split(imagen)\n",
    "\n",
    "    azul = foto_azul\n",
    "    verde = foto_verde\n",
    "    roja = foto_roja\n",
    "\n",
    "    return azul, verde, roja\n",
    "\n",
    "imagen_color = cv2.imread('carro.jpg')\n",
    "\n",
    "b_grayscale, g_grayscale, r_grayscale = grises(imagen_color)\n",
    "\n",
    "cv2.imwrite('carroazul.jpg', b_grayscale)\n",
    "cv2.imwrite('carroverde.jpg', g_grayscale)\n",
    "cv2.imwrite('carrorojo.jpg', r_grayscale)"
   ]
  },
  {
   "cell_type": "markdown",
   "metadata": {},
   "source": [
    "### Ejercicio 4"
   ]
  },
  {
   "cell_type": "code",
   "execution_count": 12,
   "metadata": {},
   "outputs": [],
   "source": [
    "import matplotlib.pyplot as plt"
   ]
  },
  {
   "cell_type": "code",
   "execution_count": 55,
   "metadata": {},
   "outputs": [],
   "source": [
    "def histog(imagen):\n",
    "    alto, largo, colores = imagen.shape\n",
    "    hist_azul = np.zeros(256, dtype=int)\n",
    "    hist_verde = np.zeros(256, dtype=int)\n",
    "    hist_rojo = np.zeros(256, dtype=int)\n",
    "    hist_gris = np.zeros(256, dtype=int)\n",
    "\n",
    "    for x in range(alto):\n",
    "        for y in range(largo):\n",
    "            azul, verde, rojo = imagen[x, y]\n",
    "            gris = int((azul + verde + rojo) / 3) \n",
    "            hist_azul[azul] += 1\n",
    "            hist_verde[verde] += 1\n",
    "            hist_rojo[rojo] += 1\n",
    "            hist_gris[gris] += 1\n",
    "\n",
    "    plt.subplot(2, 2, 1)\n",
    "    plt.bar(range(256), hist_azul, color='blue')\n",
    "\n",
    "    plt.subplot(2, 2, 2)\n",
    "    plt.bar(range(256), hist_verde, color='green')\n",
    "\n",
    "    plt.subplot(2, 2, 3)\n",
    "    plt.bar(range(256), hist_rojo, color='red')\n",
    "\n",
    "    plt.subplot(2, 2, 4)\n",
    "    plt.bar(range(256), hist_gris, color='gray')"
   ]
  },
  {
   "cell_type": "code",
   "execution_count": 56,
   "metadata": {},
   "outputs": [
    {
     "name": "stderr",
     "output_type": "stream",
     "text": [
      "C:\\Users\\Edgar\\AppData\\Local\\Temp\\ipykernel_17064\\1192144403.py:11: RuntimeWarning: overflow encountered in ubyte_scalars\n",
      "  gris = int((azul + verde + rojo) / 3)\n"
     ]
    },
    {
     "data": {
      "image/png": "[encoded data removed]",
      "text/plain": [
       "<Figure size 640x480 with 4 Axes>"
      ]
     },
     "metadata": {},
     "output_type": "display_data"
    }
   ],
   "source": [
    "imagen = cv2.imread('carro.jpg')\n",
    "histog(imagen)\n"
   ]
  }
 ],
 "metadata": {
  "kernelspec": {
   "display_name": "base",
   "language": "python",
   "name": "python3"
  },
  "language_info": {
   "codemirror_mode": {
    "name": "ipython",
    "version": 3
   },
   "file_extension": ".py",
   "mimetype": "text/x-python",
   "name": "python",
   "nbconvert_exporter": "python",
   "pygments_lexer": "ipython3",
   "version": "3.9.13"
  },
  "orig_nbformat": 4
 },
 "nbformat": 4,
 "nbformat_minor": 2
}
